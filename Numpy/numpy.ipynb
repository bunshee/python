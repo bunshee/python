{
 "cells": [
  {
   "cell_type": "markdown",
   "metadata": {},
   "source": [
    "# Numpy \n",
    "NumPy (Numerical Python) is a powerful library for numerical computing in Python. It provides support for arrays, matrices, and a wide range of mathematical functions to operate on these data structures. \n",
    "\n",
    "## Arrays\n",
    "The core of NumPy is the ndarray object, which is a multidimensional array that allows for efficient computations."
   ]
  },
  {
   "cell_type": "code",
   "execution_count": 1,
   "metadata": {},
   "outputs": [],
   "source": [
    "import numpy as np\n",
    "\n",
    "a = np.array([1, 2, 3])"
   ]
  },
  {
   "cell_type": "markdown",
   "metadata": {},
   "source": [
    "#### create numpy array from 0 to 9"
   ]
  },
  {
   "cell_type": "code",
   "execution_count": 3,
   "metadata": {},
   "outputs": [
    {
     "name": "stdout",
     "output_type": "stream",
     "text": [
      "[0 1 2 3 4 5 6 7 8 9]\n"
     ]
    }
   ],
   "source": [
    "a = np.arange(0,10)\n",
    "print(a)"
   ]
  },
  {
   "cell_type": "code",
   "execution_count": 5,
   "metadata": {},
   "outputs": [
    {
     "name": "stdout",
     "output_type": "stream",
     "text": [
      "Original array: [0 1 2 3 4 5 6 7 8 9]\n",
      "After adding 1 to each element: [ 1  2  3  4  5  6  7  8  9 10]\n",
      "After multiplying each element by 2: [ 2  4  6  8 10 12 14 16 18 20]\n",
      "After subtracting 1 from each element: [ 1  3  5  7  9 11 13 15 17 19]\n",
      "After dividing each element by itself: [1. 1. 1. 1. 1. 1. 1. 1. 1. 1.]\n"
     ]
    }
   ],
   "source": [
    "a = np.arange(0, 10)\n",
    "print(\"Original array:\", a)\n",
    "\n",
    "a = a + 1\n",
    "print(\"After adding 1 to each element:\", a)\n",
    "\n",
    "a = a * 2\n",
    "print(\"After multiplying each element by 2:\", a)\n",
    "\n",
    "a = a - 1\n",
    "print(\"After subtracting 1 from each element:\", a)\n",
    "\n",
    "a = a / a\n",
    "print(\"After dividing each element by itself:\", a)\n"
   ]
  },
  {
   "cell_type": "code",
   "execution_count": 9,
   "metadata": {},
   "outputs": [
    {
     "name": "stdout",
     "output_type": "stream",
     "text": [
      "Original array: [0 1 2 3 4 5 6 7 8 9]\n",
      "5th element: 5\n",
      "Elements from index 3 to 7: [3 4 5 6]\n"
     ]
    }
   ],
   "source": [
    "a = np.arange(0, 10)\n",
    "print(\"Original array:\", a)\n",
    "\n",
    "# Accessing the 5th element (index 5)\n",
    "print(\"5th element:\", a[5])\n",
    "\n",
    "# Slicing from index 3 to 7 (inclusive of 3, exclusive of 7)\n",
    "print(\"Elements from index 3 to 7:\", a[3:7])\n"
   ]
  },
  {
   "cell_type": "code",
   "execution_count": 11,
   "metadata": {},
   "outputs": [
    {
     "name": "stdout",
     "output_type": "stream",
     "text": [
      "Original array: [0 1 2 3 4 5 6 7 8 9]\n",
      "(10,)\n",
      "[[0 1 2 3 4]\n",
      " [5 6 7 8 9]]\n"
     ]
    }
   ],
   "source": [
    "a = np.arange(0, 10)\n",
    "print(\"Original array:\", a)\n",
    "\n",
    "# Checking the shape of the array\n",
    "print(\"Shape of the array:\", a.shape)\n",
    "\n",
    "# Reshaping the array into a 2x5 matrix\n",
    "a = a.reshape(2, 5)\n",
    "print(\"Reshaped array (2x5):\\n\", a)"
   ]
  },
  {
   "cell_type": "code",
   "execution_count": 15,
   "metadata": {},
   "outputs": [
    {
     "name": "stdout",
     "output_type": "stream",
     "text": [
      "[[ 1  3  5  7  9]\n",
      " [ 6  8 10 12 14]]\n"
     ]
    }
   ],
   "source": [
    "a = np.arange(10).reshape(2, 5)\n",
    "b = np.arange(1,6)\n",
    "print(a+b)"
   ]
  },
  {
   "cell_type": "code",
   "execution_count": 16,
   "metadata": {},
   "outputs": [
    {
     "name": "stdout",
     "output_type": "stream",
     "text": [
      "[1.         1.41421356 1.73205081 2.         2.23606798]\n",
      "[  2.71828183   7.3890561   20.08553692  54.59815003 148.4131591 ]\n",
      "[ 0.84147098  0.90929743  0.14112001 -0.7568025  -0.95892427]\n"
     ]
    }
   ],
   "source": [
    "a = np.arange(1,6)\n",
    "print(np.sqrt(a))\n",
    "print(np.exp(a))\n",
    "print(np.sin(a))"
   ]
  },
  {
   "cell_type": "code",
   "execution_count": 20,
   "metadata": {},
   "outputs": [
    {
     "name": "stdout",
     "output_type": "stream",
     "text": [
      "Min: 0 Max: 9 Mean: 4.5\n",
      "Sum: 45\n"
     ]
    }
   ],
   "source": [
    "import numpy as np\n",
    "\n",
    "# Creating a 1D array a with values from 0 to 9\n",
    "a = np.arange(10)\n",
    "\n",
    "# Computing the minimum, maximum, and mean\n",
    "min_value = a.min()\n",
    "max_value = a.max()\n",
    "mean_value = a.mean()\n",
    "\n",
    "# Printing the min, max, and mean\n",
    "print(\"Min:\", min_value, \"Max:\", max_value, \"Mean:\", mean_value)\n",
    "\n",
    "# Computing and printing the sum of the array\n",
    "sum_value = a.sum()\n",
    "print(\"Sum:\", sum_value)\n"
   ]
  },
  {
   "cell_type": "code",
   "execution_count": 22,
   "metadata": {},
   "outputs": [
    {
     "name": "stdout",
     "output_type": "stream",
     "text": [
      "Original Matrix:\n",
      " [[0 1 2 3 4]\n",
      " [5 6 7 8 9]]\n",
      "Sum along the rows: [10 35]\n",
      "Mean along the columns: [2.5 3.5 4.5 5.5 6.5]\n"
     ]
    }
   ],
   "source": [
    "# Creating a 2x5 matrix a\n",
    "a = np.arange(10).reshape(2, 5)\n",
    "print(\"Original Matrix:\\n\", a)\n",
    "\n",
    "# Summing along the rows (axis=1)\n",
    "row_sums = a.sum(axis=1)\n",
    "print(\"Sum along the rows:\", row_sums)\n",
    "\n",
    "# Computing the mean along the columns (axis=0)\n",
    "column_means = a.mean(axis=0)\n",
    "print(\"Mean along the columns:\", column_means)\n"
   ]
  },
  {
   "cell_type": "code",
   "execution_count": 25,
   "metadata": {},
   "outputs": [
    {
     "name": "stdout",
     "output_type": "stream",
     "text": [
      "Filtered array (elements > 5): [6 7 8 9]\n"
     ]
    }
   ],
   "source": [
    "# Creating a 1D array a with values from 0 to 9\n",
    "a = np.arange(10)\n",
    "\n",
    "# Applying Boolean masking to filter elements greater than 5\n",
    "filtered_array = a[a > 5]\n",
    "print(\"Filtered array (elements > 5):\", filtered_array)\n"
   ]
  },
  {
   "cell_type": "code",
   "execution_count": 30,
   "metadata": {},
   "outputs": [
    {
     "name": "stdout",
     "output_type": "stream",
     "text": [
      "Original Matrix:\n",
      " [[ 72 100  48  91]\n",
      " [ 36  92  83  56]\n",
      " [ 64  10   6  54]]\n",
      "Data type of the original array: int32\n"
     ]
    }
   ],
   "source": [
    "import numpy as np\n",
    "\n",
    "# Step 1: Create a 3x4 matrix with random integers from 1 to 100\n",
    "a = np.random.randint(1, 101, size=(3, 4))\n",
    "print(\"Original Matrix:\\n\", a)\n",
    "\n",
    "# Step 2: Print the data type of the array\n",
    "print(\"Data type of the original array:\", a.dtype)\n",
    "\n",
    "# Step 3: Convert the integer array to a structured array with two fields\n",
    "# Define the structured array dtype\n",
    "dtype = [('int_value', 'i4'), ('float_value', 'f4')]\n",
    "\n",
    "# Create the structured array\n",
    "structured_array = np.empty(a.shape[0], dtype=dtype)"
   ]
  },
  {
   "cell_type": "code",
   "execution_count": null,
   "metadata": {},
   "outputs": [],
   "source": []
  }
 ],
 "metadata": {
  "kernelspec": {
   "display_name": "vscode",
   "language": "python",
   "name": "python3"
  },
  "language_info": {
   "codemirror_mode": {
    "name": "ipython",
    "version": 3
   },
   "file_extension": ".py",
   "mimetype": "text/x-python",
   "name": "python",
   "nbconvert_exporter": "python",
   "pygments_lexer": "ipython3",
   "version": "3.9.16"
  }
 },
 "nbformat": 4,
 "nbformat_minor": 2
}
