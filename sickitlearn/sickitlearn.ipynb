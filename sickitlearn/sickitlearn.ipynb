{
 "cells": [
  {
   "cell_type": "markdown",
   "metadata": {},
   "source": [
    "# Scikit Learn\n",
    "scikit-learn is a powerful machine learning library for Python that provides simple and efficient tools for data analysis and modeling. It supports various supervised and unsupervised learning algorithms and is built on top of NumPy, SciPy, and matplotlib."
   ]
  }
 ],
 "metadata": {
  "language_info": {
   "name": "python"
  }
 },
 "nbformat": 4,
 "nbformat_minor": 2
}
