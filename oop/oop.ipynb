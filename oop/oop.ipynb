{
 "cells": [
  {
   "cell_type": "markdown",
   "metadata": {},
   "source": [
    "## Classes and Instances"
   ]
  },
  {
   "cell_type": "code",
   "execution_count": 1,
   "metadata": {},
   "outputs": [
    {
     "name": "stdout",
     "output_type": "stream",
     "text": [
      "<__main__.Employee object at 0x00000229F75A35B0> <__main__.Employee object at 0x00000229F75A3670>\n",
      "Bader\n",
      "Hana\n"
     ]
    }
   ],
   "source": [
    "class Employee:\n",
    "    pass\n",
    "\n",
    "emp_1 = Employee()\n",
    "emp_2 = Employee()\n",
    "\n",
    "print(emp_1,emp_2)\n",
    "\n",
    "emp_1.name = \"Bader\"\n",
    "emp_2.name = \"Hana\"\n",
    "\n",
    "print(emp_1.name)\n",
    "print(emp_2.name)"
   ]
  },
  {
   "cell_type": "code",
   "execution_count": 2,
   "metadata": {},
   "outputs": [],
   "source": [
    "class Person:\n",
    "    def __init__(self, name, age, birthday):\n",
    "        self.name = name\n",
    "        self.age = age\n",
    "        self.birthday = birthday\n",
    "        \n",
    "    def info(self):\n",
    "        return \"name: {} age: {} birthday: {}\".format(self.name, self.age, self.birthday)"
   ]
  },
  {
   "cell_type": "code",
   "execution_count": 3,
   "metadata": {},
   "outputs": [
    {
     "name": "stdout",
     "output_type": "stream",
     "text": [
      "name: Hana age: 23 birthday: 07/09/2000\n",
      "name: Bader age: 24 birthday: 22/07/2000\n"
     ]
    }
   ],
   "source": [
    "hana = Person(name=\"Hana\", age=23, birthday=\"07/09/2000\")\n",
    "bader = Person(\"Bader\", 24, \"22/07/2000\")\n",
    "\n",
    "print(hana.info())\n",
    "print(bader.info())"
   ]
  },
  {
   "cell_type": "code",
   "execution_count": 4,
   "metadata": {},
   "outputs": [
    {
     "name": "stdout",
     "output_type": "stream",
     "text": [
      "name: Hana age: 23 birthday: 07/09/2000\n"
     ]
    }
   ],
   "source": [
    "print(Person.info(hana))"
   ]
  },
  {
   "cell_type": "markdown",
   "metadata": {},
   "source": [
    "## Class Variables"
   ]
  },
  {
   "cell_type": "code",
   "execution_count": 5,
   "metadata": {},
   "outputs": [],
   "source": [
    "class Person:\n",
    "    # class variables \n",
    "    num_persons = 0\n",
    "    age_inc = 1\n",
    "    \n",
    "    def __init__(self, name, age, birthday):\n",
    "        self.name = name\n",
    "        self.age = age\n",
    "        self.birthday = birthday\n",
    "        \n",
    "        Person.num_persons += 1\n",
    "        \n",
    "    def info(self):\n",
    "        return \"name: {} age: {} birthday: {}\".format(self.name, self.age, self.birthday)\n",
    "    \n",
    "    def increase_age(self):\n",
    "        self.age += self.age_inc"
   ]
  },
  {
   "cell_type": "code",
   "execution_count": 6,
   "metadata": {},
   "outputs": [],
   "source": [
    "hana = Person(name=\"Hana\", age=23, birthday=\"07/09/2000\")\n",
    "bader = Person(\"Bader\", 24, \"22/07/2000\")"
   ]
  },
  {
   "cell_type": "code",
   "execution_count": 7,
   "metadata": {},
   "outputs": [
    {
     "name": "stdout",
     "output_type": "stream",
     "text": [
      "2\n"
     ]
    }
   ],
   "source": [
    "print(Person.num_persons)"
   ]
  },
  {
   "cell_type": "code",
   "execution_count": 8,
   "metadata": {},
   "outputs": [],
   "source": [
    "hana.increase_age()"
   ]
  },
  {
   "cell_type": "code",
   "execution_count": 9,
   "metadata": {},
   "outputs": [
    {
     "name": "stdout",
     "output_type": "stream",
     "text": [
      "name: Hana age: 24 birthday: 07/09/2000\n"
     ]
    }
   ],
   "source": [
    "print(hana.info())"
   ]
  },
  {
   "cell_type": "code",
   "execution_count": 10,
   "metadata": {},
   "outputs": [
    {
     "name": "stdout",
     "output_type": "stream",
     "text": [
      "{'name': 'Hana', 'age': 24, 'birthday': '07/09/2000', 'increase_age': 2}\n",
      "{'name': 'Bader', 'age': 24, 'birthday': '22/07/2000'}\n",
      "1\n",
      "1\n"
     ]
    }
   ],
   "source": [
    "hana.increase_age = 2\n",
    "print(hana.__dict__)\n",
    "print(bader.__dict__)\n",
    "print(bader.age_inc)\n",
    "print(Person.age_inc)"
   ]
  },
  {
   "cell_type": "code",
   "execution_count": 11,
   "metadata": {},
   "outputs": [
    {
     "name": "stdout",
     "output_type": "stream",
     "text": [
      "2\n",
      "2\n",
      "2\n"
     ]
    }
   ],
   "source": [
    "Person.age_inc = 2\n",
    "print(bader.age_inc)\n",
    "print(hana.age_inc)\n",
    "print(Person.age_inc)\n"
   ]
  },
  {
   "cell_type": "code",
   "execution_count": 12,
   "metadata": {},
   "outputs": [
    {
     "data": {
      "text/plain": [
       "2"
      ]
     },
     "execution_count": 12,
     "metadata": {},
     "output_type": "execute_result"
    }
   ],
   "source": [
    "Person.num_persons"
   ]
  },
  {
   "cell_type": "markdown",
   "metadata": {},
   "source": [
    "## Class Methods and Static Methods\n",
    "**Regular methods** take the instance (self) as the first argument,\n",
    "**@classmethod** decorator permets the use of the class as the first argument, on the other hand **staticmethod** neither depend on the instance nor on the class itself, it behaves like a function, but we include it in our class because it got some logical connection with it."
   ]
  },
  {
   "cell_type": "code",
   "execution_count": 13,
   "metadata": {},
   "outputs": [],
   "source": [
    "import datetime\n",
    "\n",
    "class Person:\n",
    "    # class variables \n",
    "    num_persons = 0\n",
    "    age_inc = 1\n",
    "    \n",
    "    def __init__(self, name, age, birthday):\n",
    "        self.name = name\n",
    "        self.age = age\n",
    "        self.birthday = birthday\n",
    "        \n",
    "        Person.num_persons += 1\n",
    "        \n",
    "    def info(self):\n",
    "        return \"name: {} age: {} birthday: {}\".format(self.name, self.age, self.birthday)\n",
    "    \n",
    "    def to_datetime(self):\n",
    "        day = datetime.datetime.strptime(self.birthday, \"%d/%m/%Y\").date()\n",
    "        return day\n",
    "    \n",
    "    def increase_age(self):\n",
    "        self.age += self.age_inc\n",
    "        \n",
    "    #this method is working with the class instead of the instance\n",
    "    @classmethod\n",
    "    def set_age_inc(cls, amount):\n",
    "        cls.age_inc = amount\n",
    "        \n",
    "    #class method    \n",
    "    #create employees from string using alternative constructor methods\n",
    "    @classmethod\n",
    "    def from_string(cls, string : str):\n",
    "        name, age, birthday = string.split(\"-\")\n",
    "        return cls(name, age, birthday)\n",
    "    \n",
    "    #static method\n",
    "    #checks if birthday is on a weekend day or a workd day\n",
    "    @staticmethod\n",
    "    def from_weekend(day):\n",
    "        if day.weekday() == 5 or day.weekday() == 6:\n",
    "            return True\n",
    "        return False"
   ]
  },
  {
   "cell_type": "code",
   "execution_count": 14,
   "metadata": {},
   "outputs": [
    {
     "name": "stdout",
     "output_type": "stream",
     "text": [
      "name: b age: 28 birthday: 22/07/2000\n"
     ]
    }
   ],
   "source": [
    "Person.set_age_inc(4)\n",
    "\n",
    "bader = Person(\"b\", 24, \"22/07/2000\")\n",
    "\n",
    "bader.increase_age()\n",
    "\n",
    "print(bader.info())"
   ]
  },
  {
   "cell_type": "code",
   "execution_count": 15,
   "metadata": {},
   "outputs": [
    {
     "data": {
      "text/plain": [
       "'name: Amine age: 26 birthday: 23/03/1998'"
      ]
     },
     "execution_count": 15,
     "metadata": {},
     "output_type": "execute_result"
    }
   ],
   "source": [
    "amine_string = \"Amine-26-23/03/1998\"\n",
    "\n",
    "amine = Person.from_string(amine_string)\n",
    "amine.info()"
   ]
  },
  {
   "cell_type": "code",
   "execution_count": 16,
   "metadata": {},
   "outputs": [
    {
     "data": {
      "text/plain": [
       "datetime.date(1998, 3, 23)"
      ]
     },
     "execution_count": 16,
     "metadata": {},
     "output_type": "execute_result"
    }
   ],
   "source": [
    "amine.to_datetime()"
   ]
  },
  {
   "cell_type": "code",
   "execution_count": 17,
   "metadata": {},
   "outputs": [
    {
     "data": {
      "text/plain": [
       "False"
      ]
     },
     "execution_count": 17,
     "metadata": {},
     "output_type": "execute_result"
    }
   ],
   "source": [
    "is_weekend = Person.from_weekend(amine.to_datetime())\n",
    "is_weekend"
   ]
  },
  {
   "cell_type": "code",
   "execution_count": 18,
   "metadata": {},
   "outputs": [
    {
     "data": {
      "text/plain": [
       "True"
      ]
     },
     "execution_count": 18,
     "metadata": {},
     "output_type": "execute_result"
    }
   ],
   "source": [
    "is_weekend = Person.from_weekend(bader.to_datetime())\n",
    "is_weekend"
   ]
  },
  {
   "cell_type": "markdown",
   "metadata": {},
   "source": [
    "## Inheritance : Creating subclasses"
   ]
  },
  {
   "cell_type": "code",
   "execution_count": 19,
   "metadata": {},
   "outputs": [],
   "source": [
    "# subclass Male inherits all Person class properties \n",
    "class Male(Person):\n",
    "    pass"
   ]
  },
  {
   "cell_type": "code",
   "execution_count": 20,
   "metadata": {},
   "outputs": [
    {
     "name": "stdout",
     "output_type": "stream",
     "text": [
      "name: Bader age: 24 birthday: 22/07/2000\n"
     ]
    }
   ],
   "source": [
    "bader = Male(\"Bader\", 24, \"22/07/2000\")\n",
    "print(bader.info())"
   ]
  },
  {
   "cell_type": "code",
   "execution_count": 21,
   "metadata": {},
   "outputs": [
    {
     "name": "stdout",
     "output_type": "stream",
     "text": [
      "Help on class Male in module __main__:\n",
      "\n",
      "class Male(Person)\n",
      " |  Male(name, age, birthday)\n",
      " |  \n",
      " |  Method resolution order:\n",
      " |      Male\n",
      " |      Person\n",
      " |      builtins.object\n",
      " |  \n",
      " |  Methods inherited from Person:\n",
      " |  \n",
      " |  __init__(self, name, age, birthday)\n",
      " |      Initialize self.  See help(type(self)) for accurate signature.\n",
      " |  \n",
      " |  increase_age(self)\n",
      " |  \n",
      " |  info(self)\n",
      " |  \n",
      " |  to_datetime(self)\n",
      " |  \n",
      " |  ----------------------------------------------------------------------\n",
      " |  Class methods inherited from Person:\n",
      " |  \n",
      " |  from_string(string: str) from builtins.type\n",
      " |      #class method    \n",
      " |      #create employees from string using alternative constructor methods\n",
      " |  \n",
      " |  set_age_inc(amount) from builtins.type\n",
      " |      #this method is working with the class instead of the instance\n",
      " |  \n",
      " |  ----------------------------------------------------------------------\n",
      " |  Static methods inherited from Person:\n",
      " |  \n",
      " |  from_weekend(day)\n",
      " |      #static method\n",
      " |      #checks if birthday is on a weekend day or a workd day\n",
      " |  \n",
      " |  ----------------------------------------------------------------------\n",
      " |  Data descriptors inherited from Person:\n",
      " |  \n",
      " |  __dict__\n",
      " |      dictionary for instance variables (if defined)\n",
      " |  \n",
      " |  __weakref__\n",
      " |      list of weak references to the object (if defined)\n",
      " |  \n",
      " |  ----------------------------------------------------------------------\n",
      " |  Data and other attributes inherited from Person:\n",
      " |  \n",
      " |  age_inc = 4\n",
      " |  \n",
      " |  num_persons = 3\n",
      "\n",
      "None\n"
     ]
    }
   ],
   "source": [
    "print(help(Male))"
   ]
  },
  {
   "cell_type": "code",
   "execution_count": 22,
   "metadata": {},
   "outputs": [],
   "source": [
    "class Male(Person):\n",
    "    age_inc = 2\n",
    "\n",
    "    def __init__(self, name, age, birthday, work_experience):\n",
    "        super().__init__(name, age, birthday)\n",
    "        self.work_experience = work_experience\n",
    "        \n",
    "    def info(self):\n",
    "        return \"name: {} age: {} birthday: {} work experience: {}\".format(self.name, self.age, self.birthday, self.work_experience)"
   ]
  },
  {
   "cell_type": "code",
   "execution_count": 24,
   "metadata": {},
   "outputs": [
    {
     "name": "stdout",
     "output_type": "stream",
     "text": [
      "name: Bader age: 26 birthday: 22/07/2000 work experience: 1\n"
     ]
    }
   ],
   "source": [
    "bader = Male(\"Bader\", 24, \"22/07/2000\", 1)\n",
    "bader.increase_age()\n",
    "print(bader.info())"
   ]
  },
  {
   "cell_type": "code",
   "execution_count": 25,
   "metadata": {},
   "outputs": [
    {
     "name": "stdout",
     "output_type": "stream",
     "text": [
      "name: Amine age: 26 birthday: 11/11/1998 work experience: 5\n"
     ]
    }
   ],
   "source": [
    "amine = Male(\"Amine\", 26, \"11/11/1998\", 5)\n",
    "print(amine.info())"
   ]
  },
  {
   "cell_type": "code",
   "execution_count": 26,
   "metadata": {},
   "outputs": [
    {
     "name": "stdout",
     "output_type": "stream",
     "text": [
      "5\n"
     ]
    }
   ],
   "source": [
    "print(amine.work_experience)"
   ]
  },
  {
   "cell_type": "code",
   "execution_count": 27,
   "metadata": {},
   "outputs": [],
   "source": [
    "class Supervisor(Person):\n",
    "    \n",
    "    def __init__(self, name, age, birthday, people = None):\n",
    "        super().__init__(name, age, birthday)\n",
    "        if people == None:\n",
    "            self.people = []\n",
    "        else:\n",
    "            self.people = people\n",
    "            \n",
    "    def add_person(self, person):\n",
    "        if person not in self.people:\n",
    "            self.people.append(person)\n",
    "            \n",
    "    def remove_person(self, person):\n",
    "        if person in self.people:\n",
    "            self.people.remove(person)\n",
    "            \n",
    "    def info(self):\n",
    "        return \"name: {} age: {} birthday: {} supervises: {}\".format(self.name, self.age, self.birthday, self.people)\n",
    "\n",
    "        "
   ]
  },
  {
   "cell_type": "code",
   "execution_count": 28,
   "metadata": {},
   "outputs": [
    {
     "name": "stdout",
     "output_type": "stream",
     "text": [
      "name: Rania age: 43 birthday: 12/01/1989 supervises: [<__main__.Male object at 0x00000229F919A6D0>, <__main__.Male object at 0x00000229F919A400>]\n"
     ]
    }
   ],
   "source": [
    "rania = Supervisor(\"Rania\", 43, \"12/01/1989\", [amine, bader])\n",
    "\n",
    "print(rania.info())"
   ]
  },
  {
   "cell_type": "code",
   "execution_count": 29,
   "metadata": {},
   "outputs": [
    {
     "name": "stdout",
     "output_type": "stream",
     "text": [
      "name: Rania age: 43 birthday: 12/01/1989 supervises: [<__main__.Male object at 0x00000229F919A6D0>, <__main__.Male object at 0x00000229F919A400>, <__main__.Person object at 0x00000229F919DEE0>]\n"
     ]
    }
   ],
   "source": [
    "badr = Person(\"b\", 24, \"22/07/2000\")\n",
    "\n",
    "rania.add_person(badr)\n",
    "print(rania.info())"
   ]
  },
  {
   "cell_type": "code",
   "execution_count": 30,
   "metadata": {},
   "outputs": [
    {
     "name": "stdout",
     "output_type": "stream",
     "text": [
      "name: Rania age: 43 birthday: 12/01/1989 supervises: [<__main__.Male object at 0x00000229F919A6D0>, <__main__.Male object at 0x00000229F919A400>]\n"
     ]
    }
   ],
   "source": [
    "rania.remove_person(badr)\n",
    "print(rania.info())"
   ]
  },
  {
   "cell_type": "code",
   "execution_count": 31,
   "metadata": {},
   "outputs": [
    {
     "name": "stdout",
     "output_type": "stream",
     "text": [
      "True False\n"
     ]
    }
   ],
   "source": [
    "#to check is an instance of a class use isinstance() method\n",
    "print(isinstance(rania, Supervisor), isinstance(rania, Male))"
   ]
  },
  {
   "cell_type": "code",
   "execution_count": 32,
   "metadata": {},
   "outputs": [
    {
     "name": "stdout",
     "output_type": "stream",
     "text": [
      "True False\n"
     ]
    }
   ],
   "source": [
    "#to check if a class is a subclass of another class use issubclass() method\n",
    "print(issubclass(Male,Person), issubclass(Male, Supervisor))"
   ]
  },
  {
   "cell_type": "markdown",
   "metadata": {},
   "source": [
    "## Special (Magic/Dunder) Methods"
   ]
  },
  {
   "cell_type": "code",
   "execution_count": 33,
   "metadata": {},
   "outputs": [
    {
     "data": {
      "text/plain": [
       "'<__main__.Male object at 0x00000229F919A400>'"
      ]
     },
     "execution_count": 33,
     "metadata": {},
     "output_type": "execute_result"
    }
   ],
   "source": [
    "repr(bader)"
   ]
  },
  {
   "cell_type": "code",
   "execution_count": 34,
   "metadata": {},
   "outputs": [
    {
     "data": {
      "text/plain": [
       "'<__main__.Male object at 0x00000229F919A400>'"
      ]
     },
     "execution_count": 34,
     "metadata": {},
     "output_type": "execute_result"
    }
   ],
   "source": [
    "str(bader)"
   ]
  },
  {
   "cell_type": "code",
   "execution_count": 51,
   "metadata": {},
   "outputs": [],
   "source": [
    "class Supervisor(Person):\n",
    "    \n",
    "    def __init__(self, name, age, birthday, people = None):\n",
    "        super().__init__(name, age, birthday)\n",
    "        if people == None:\n",
    "            self.people = []\n",
    "        else:\n",
    "            self.people = people\n",
    "            \n",
    "    def add_person(self, person):\n",
    "        if person not in self.people:\n",
    "            self.people.append(person)\n",
    "            \n",
    "    def remove_person(self, person):\n",
    "        if person in self.people:\n",
    "            self.people.remove(person)\n",
    "            \n",
    "    def info(self):\n",
    "        return \"name: {} age: {} birthday: {} supervises: {}\".format(self.name, self.age, self.birthday, self.people)\n",
    "\n",
    "    def __repr__(self) -> str:\n",
    "        return \"Supervisor : {} {} | age: {}\".format(self.name, self.people, self.age)\n",
    "    \n",
    "    def __str__(self) -> str:\n",
    "        return \"age: {}, birthdate: {}\".format(self.age, self.birthday)\n",
    "    \n",
    "    def __add__(self, other : Employee):\n",
    "        return self.age + other.age"
   ]
  },
  {
   "cell_type": "code",
   "execution_count": 48,
   "metadata": {},
   "outputs": [],
   "source": [
    "rania = Supervisor(\"Rania\", 43, \"12/01/1989\", [amine, bader])\n",
    "hamedni = Supervisor(\"Hamedni\", 45, \"12/01/1989\", [amine, bader])"
   ]
  },
  {
   "cell_type": "code",
   "execution_count": 37,
   "metadata": {},
   "outputs": [
    {
     "data": {
      "text/plain": [
       "'Supervisor : Rania [<__main__.Male object at 0x00000229F919A6D0>, <__main__.Male object at 0x00000229F919A400>] | age: 43'"
      ]
     },
     "execution_count": 37,
     "metadata": {},
     "output_type": "execute_result"
    }
   ],
   "source": [
    "repr(rania)"
   ]
  },
  {
   "cell_type": "code",
   "execution_count": 38,
   "metadata": {},
   "outputs": [
    {
     "data": {
      "text/plain": [
       "'age: 43, birthdate: 12/01/1989'"
      ]
     },
     "execution_count": 38,
     "metadata": {},
     "output_type": "execute_result"
    }
   ],
   "source": [
    "str(rania)"
   ]
  },
  {
   "cell_type": "code",
   "execution_count": 40,
   "metadata": {},
   "outputs": [
    {
     "name": "stdout",
     "output_type": "stream",
     "text": [
      "Supervisor : Rania [<__main__.Male object at 0x00000229F919A6D0>, <__main__.Male object at 0x00000229F919A400>] | age: 43 age: 43, birthdate: 12/01/1989\n"
     ]
    }
   ],
   "source": [
    "print(rania.__repr__(), rania.__str__())"
   ]
  },
  {
   "cell_type": "code",
   "execution_count": 43,
   "metadata": {},
   "outputs": [
    {
     "name": "stdout",
     "output_type": "stream",
     "text": [
      "12\n"
     ]
    }
   ],
   "source": [
    "#there also arithmetic and other more complex dunders\n",
    "\n",
    "print(str.__add__('1','2'))"
   ]
  },
  {
   "cell_type": "code",
   "execution_count": 45,
   "metadata": {},
   "outputs": [
    {
     "name": "stdout",
     "output_type": "stream",
     "text": [
      "3\n"
     ]
    }
   ],
   "source": [
    "print(int.__add__(1,2))"
   ]
  },
  {
   "cell_type": "code",
   "execution_count": 49,
   "metadata": {},
   "outputs": [
    {
     "name": "stdout",
     "output_type": "stream",
     "text": [
      "88\n"
     ]
    }
   ],
   "source": [
    "print(rania + hamedni)"
   ]
  },
  {
   "cell_type": "markdown",
   "metadata": {},
   "source": [
    "## Property Decorators - Getters, Setters, and Deleters"
   ]
  },
  {
   "cell_type": "code",
   "execution_count": 69,
   "metadata": {},
   "outputs": [],
   "source": [
    "#use getter or @proprty decorator to make a method or a builtin class function into a \n",
    "#attribute in terms of access\n",
    "\n",
    "class Person:\n",
    "    # class variables \n",
    "    num_persons = 0\n",
    "    age_inc = 1\n",
    "    \n",
    "    def __init__(self, fname, lname, age, birthday):\n",
    "        self.fname = fname\n",
    "        self.lname = lname\n",
    "        self.age = age\n",
    "        self.birthday = birthday\n",
    "        \n",
    "        Person.num_persons += 1\n",
    "     \n",
    "    @property   \n",
    "    def info(self):\n",
    "        return \"name: {} age: {} birthday: {}\".format(self.fname, self.age, self.birthday)\n",
    "    \n",
    "    @property\n",
    "    def fullname(self):\n",
    "        return \"{} {}\".format(self.fname, self.lname)\n",
    "    \n",
    "    @fullname.setter\n",
    "    def fullname(self, flname):\n",
    "        fname, lname = flname.split(\" \")\n",
    "        self.fname = fname\n",
    "        self.lname = lname\n",
    "    \n",
    "    @fullname.deleter\n",
    "    def fullname(self):\n",
    "        self.fname, self.lname = None, None\n",
    "        \n",
    "    def to_datetime(self):\n",
    "        day = datetime.datetime.strptime(self.birthday, \"%d/%m/%Y\").date()\n",
    "        return day\n",
    "    \n",
    "    def increase_age(self):\n",
    "        self.age += self.age_inc\n",
    "        \n",
    "    #this method is working with the class instead of the instance\n",
    "    @classmethod\n",
    "    def set_age_inc(cls, amount):\n",
    "        cls.age_inc = amount\n",
    "        \n",
    "    #class method    \n",
    "    #create employees from string using alternative constructor methods\n",
    "    @classmethod\n",
    "    def from_string(cls, string : str):\n",
    "        name, age, birthday = string.split(\"-\")\n",
    "        return cls(name, age, birthday)\n",
    "    \n",
    "    #static method\n",
    "    #checks if birthday is on a weekend day or a workd day\n",
    "    @staticmethod\n",
    "    def from_weekend(day):\n",
    "        if day.weekday() == 5 or day.weekday() == 6:\n",
    "            return True\n",
    "        return False"
   ]
  },
  {
   "cell_type": "code",
   "execution_count": 52,
   "metadata": {},
   "outputs": [],
   "source": [
    "rania = Supervisor(\"Rania\", 43, \"12/01/1989\", [amine, bader])\n",
    "hamedni = Supervisor(\"Hamedni\", 45, \"12/01/1989\", [amine, bader])"
   ]
  },
  {
   "cell_type": "code",
   "execution_count": 61,
   "metadata": {},
   "outputs": [
    {
     "data": {
      "text/plain": [
       "'name: Rania age: 43 birthday: 12/01/1989 supervises: [<__main__.Male object at 0x00000229F919A6D0>, <__main__.Male object at 0x00000229F919A400>]'"
      ]
     },
     "execution_count": 61,
     "metadata": {},
     "output_type": "execute_result"
    }
   ],
   "source": [
    "rania.info()"
   ]
  },
  {
   "cell_type": "code",
   "execution_count": 59,
   "metadata": {},
   "outputs": [],
   "source": [
    "bader = Person(\"Bader\", 24, \"22/07/2000\")"
   ]
  },
  {
   "cell_type": "code",
   "execution_count": 62,
   "metadata": {},
   "outputs": [
    {
     "data": {
      "text/plain": [
       "'name: Bader age: 24 birthday: 22/07/2000'"
      ]
     },
     "execution_count": 62,
     "metadata": {},
     "output_type": "execute_result"
    }
   ],
   "source": [
    "bader.info"
   ]
  },
  {
   "cell_type": "code",
   "execution_count": 70,
   "metadata": {},
   "outputs": [
    {
     "name": "stdout",
     "output_type": "stream",
     "text": [
      "name: bader age: 24 birthday: 22/07/2000 bader G\n"
     ]
    }
   ],
   "source": [
    "bader = Person(\"bader\", \"G\", 24, \"22/07/2000\")\n",
    "print(bader.info, bader.fullname)"
   ]
  },
  {
   "cell_type": "code",
   "execution_count": 71,
   "metadata": {},
   "outputs": [],
   "source": [
    "bader.fullname = \"bader Gorchene\""
   ]
  },
  {
   "cell_type": "code",
   "execution_count": 72,
   "metadata": {},
   "outputs": [
    {
     "name": "stdout",
     "output_type": "stream",
     "text": [
      "bader Gorchene\n"
     ]
    }
   ],
   "source": [
    "print(bader.fullname)"
   ]
  },
  {
   "cell_type": "code",
   "execution_count": 74,
   "metadata": {},
   "outputs": [
    {
     "name": "stdout",
     "output_type": "stream",
     "text": [
      "name: None age: 24 birthday: 22/07/2000\n"
     ]
    }
   ],
   "source": [
    "del bader.fullname\n",
    "\n",
    "print(bader.info)"
   ]
  },
  {
   "cell_type": "markdown",
   "metadata": {},
   "source": [
    "## Multiple inheritance and Polymorphism"
   ]
  },
  {
   "cell_type": "code",
   "execution_count": 2,
   "metadata": {},
   "outputs": [
    {
     "name": "stdout",
     "output_type": "stream",
     "text": [
      "Method A\n",
      "Method B\n",
      "Dog barks\n",
      "Cat meows\n"
     ]
    }
   ],
   "source": [
    "#multiple inheritance just uses inheritance from multiple classes\n",
    "class A:\n",
    "    def method_a(self):\n",
    "        print(\"Method A\")\n",
    "\n",
    "class B:\n",
    "    def method_b(self):\n",
    "        print(\"Method B\")\n",
    "\n",
    "class C(A, B):\n",
    "    pass\n",
    "\n",
    "c = C()\n",
    "c.method_a()  # Output: Method A\n",
    "c.method_b()  # Output: Method B\n",
    "\n",
    "\n",
    "#while polymorphism is overriding mother class methods to each subclass\n",
    "class Animal:\n",
    "    def speak(self):\n",
    "        print(\"Animal speaks\")\n",
    "\n",
    "class Dog(Animal):\n",
    "    def speak(self):\n",
    "        print(\"Dog barks\")\n",
    "\n",
    "class Cat(Animal):\n",
    "    def speak(self):\n",
    "        print(\"Cat meows\")\n",
    "\n",
    "def make_animal_speak(animal):\n",
    "    animal.speak()\n",
    "\n",
    "dog = Dog()\n",
    "cat = Cat()\n",
    "\n",
    "make_animal_speak(dog)  # Output: Dog barks\n",
    "make_animal_speak(cat)  # Output: Cat meows\n",
    "\n",
    "\n"
   ]
  },
  {
   "cell_type": "markdown",
   "metadata": {},
   "source": [
    "## MRO and Mixins"
   ]
  },
  {
   "cell_type": "code",
   "execution_count": 4,
   "metadata": {},
   "outputs": [
    {
     "name": "stdout",
     "output_type": "stream",
     "text": [
      "LOG: Doing something\n",
      "Authenticated\n",
      "Method in B\n",
      "(<class '__main__.D'>, <class '__main__.B'>, <class '__main__.C'>, <class '__main__.A'>, <class 'object'>)\n"
     ]
    }
   ],
   "source": [
    "#Mixins is a type of multiple inhertance that makes sure that both parent classes are used in the same child class\n",
    "class LoggerMixin:\n",
    "    def log(self, message):\n",
    "        print(f\"LOG: {message}\")\n",
    "\n",
    "class AuthMixin:\n",
    "    def authenticate(self):\n",
    "        print(\"Authenticated\")\n",
    "\n",
    "class MyClass(LoggerMixin, AuthMixin):\n",
    "    def do_something(self):\n",
    "        self.log(\"Doing something\")\n",
    "        self.authenticate()\n",
    "\n",
    "obj = MyClass()\n",
    "obj.do_something()\n",
    "\n",
    "#and finally MRO checks the heritage of classes, which classes did inherit from other classes successivly \n",
    "class A:\n",
    "    def method(self):\n",
    "        print(\"Method in A\")\n",
    "\n",
    "class B(A):\n",
    "    def method(self):\n",
    "        print(\"Method in B\")\n",
    "\n",
    "class C(A):\n",
    "    def method(self):\n",
    "        print(\"Method in C\")\n",
    "\n",
    "class D(B, C):\n",
    "    pass\n",
    "\n",
    "# Instantiate class D and call method\n",
    "d = D()\n",
    "d.method()\n",
    "\n",
    "# Print MRO\n",
    "print(D.__mro__)\n"
   ]
  }
 ],
 "metadata": {
  "kernelspec": {
   "display_name": "vscode",
   "language": "python",
   "name": "python3"
  },
  "language_info": {
   "codemirror_mode": {
    "name": "ipython",
    "version": 3
   },
   "file_extension": ".py",
   "mimetype": "text/x-python",
   "name": "python",
   "nbconvert_exporter": "python",
   "pygments_lexer": "ipython3",
   "version": "3.9.16"
  }
 },
 "nbformat": 4,
 "nbformat_minor": 2
}
